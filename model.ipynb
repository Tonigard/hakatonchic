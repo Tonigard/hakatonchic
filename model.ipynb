{
 "cells": [
  {
   "cell_type": "code",
   "execution_count": 1,
   "id": "35f19638",
   "metadata": {},
   "outputs": [],
   "source": [
    "import catboost\n",
    "import pandas as pd\n",
    "import numpy as np\n",
    "from sklearn.model_selection import train_test_split\n",
    "from catboost.utils import create_cd\n",
    "from catboost import Pool\n",
    "from catboost import CatBoostClassifier\n",
    "\n",
    "\n",
    "df = pd.read_csv('data_to_train_30.csv')"
   ]
  },
  {
   "cell_type": "code",
   "execution_count": 2,
   "id": "643e5239",
   "metadata": {},
   "outputs": [
    {
     "name": "stdout",
     "output_type": "stream",
     "text": [
      "Тренировочная выборка:\n",
      "(4770928, 132) (4770928,)\n",
      "Тестовая выборка:\n",
      "(530104, 132) (530104,)\n"
     ]
    }
   ],
   "source": [
    "df['date'] = pd.to_datetime(df['date'])\n",
    "#df = df.drop('failure', axis=1)\n",
    "df['pod_slot_num'] = np.where(df['pod_slot_num'] == np.nan, 1000,df['pod_slot_num'])\n",
    "df['pod_slot_num'] = np.where(df['pod_slot_num'].isna(), 0, df['pod_slot_num']).astype(int)\n",
    "df['is_legacy_format'] = np.where(df['is_legacy_format'], 1, 0)\n",
    "df['datacenter'] = np.where(df['datacenter'].isna(), '', df['datacenter'])\n",
    "df = df[~df['target'].isna()]\n",
    "\n",
    "X = df.drop('target', axis=1)\n",
    "y = df['target']\n",
    "\n",
    "\n",
    "train_x, test_x, train_y, test_y = train_test_split(X, y, test_size=0.1, random_state=42)\n",
    "print('Тренировочная выборка:')\n",
    "print(train_x.shape, train_y.shape)\n",
    "print('Тестовая выборка:')\n",
    "print(test_x.shape, test_y.shape)\n",
    "\n"
   ]
  },
  {
   "cell_type": "code",
   "execution_count": null,
   "id": "046454aa",
   "metadata": {},
   "outputs": [
    {
     "data": {
      "application/vnd.jupyter.widget-view+json": {
       "model_id": "c4c04631879c46b49cedcb8bf653c118",
       "version_major": 2,
       "version_minor": 0
      },
      "text/plain": [
       "MetricVisualizer(layout=Layout(align_self='stretch', height='500px'))"
      ]
     },
     "metadata": {},
     "output_type": "display_data"
    },
    {
     "name": "stdout",
     "output_type": "stream",
     "text": [
      "0:\tlearn: 0.3186272\ttest: 0.3186192\tbest: 0.3186192 (0)\ttotal: 2.81s\tremaining: 9m 18s\n",
      "1:\tlearn: 0.1444051\ttest: 0.1443879\tbest: 0.1443879 (1)\ttotal: 6.61s\tremaining: 10m 54s\n",
      "2:\tlearn: 0.0682335\ttest: 0.0682145\tbest: 0.0682145 (2)\ttotal: 9s\tremaining: 9m 51s\n",
      "3:\tlearn: 0.0339971\ttest: 0.0339741\tbest: 0.0339741 (3)\ttotal: 11s\tremaining: 8m 57s\n",
      "4:\tlearn: 0.0181015\ttest: 0.0180753\tbest: 0.0180753 (4)\ttotal: 12.5s\tremaining: 8m 7s\n",
      "5:\tlearn: 0.0102807\ttest: 0.0102512\tbest: 0.0102512 (5)\ttotal: 13.7s\tremaining: 7m 22s\n",
      "6:\tlearn: 0.0061893\ttest: 0.0061577\tbest: 0.0061577 (6)\ttotal: 17.3s\tremaining: 7m 57s\n",
      "7:\tlearn: 0.0039815\ttest: 0.0039472\tbest: 0.0039472 (7)\ttotal: 20.8s\tremaining: 8m 20s\n",
      "8:\tlearn: 0.0027272\ttest: 0.0026905\tbest: 0.0026905 (8)\ttotal: 24.3s\tremaining: 8m 36s\n",
      "9:\tlearn: 0.0019851\ttest: 0.0019462\tbest: 0.0019462 (9)\ttotal: 27.4s\tremaining: 8m 39s\n",
      "10:\tlearn: 0.0015293\ttest: 0.0014883\tbest: 0.0014883 (10)\ttotal: 30.5s\tremaining: 8m 44s\n",
      "11:\tlearn: 0.0012333\ttest: 0.0011904\tbest: 0.0011904 (11)\ttotal: 32.6s\tremaining: 8m 30s\n",
      "12:\tlearn: 0.0009366\ttest: 0.0008881\tbest: 0.0008881 (12)\ttotal: 37.1s\tremaining: 8m 53s\n",
      "13:\tlearn: 0.0007447\ttest: 0.0006934\tbest: 0.0006934 (13)\ttotal: 40.3s\tremaining: 8m 55s\n",
      "14:\tlearn: 0.0006399\ttest: 0.0005845\tbest: 0.0005845 (14)\ttotal: 43.5s\tremaining: 8m 57s\n",
      "15:\tlearn: 0.0005693\ttest: 0.0005108\tbest: 0.0005108 (15)\ttotal: 46s\tremaining: 8m 49s\n",
      "16:\tlearn: 0.0005193\ttest: 0.0004568\tbest: 0.0004568 (16)\ttotal: 49.8s\tremaining: 8m 56s\n",
      "17:\tlearn: 0.0004718\ttest: 0.0004075\tbest: 0.0004075 (17)\ttotal: 53.4s\tremaining: 8m 59s\n",
      "18:\tlearn: 0.0004465\ttest: 0.0003809\tbest: 0.0003809 (18)\ttotal: 57.2s\tremaining: 9m 4s\n",
      "19:\tlearn: 0.0004197\ttest: 0.0003529\tbest: 0.0003529 (19)\ttotal: 1m\tremaining: 9m 7s\n",
      "20:\tlearn: 0.0004094\ttest: 0.0003422\tbest: 0.0003422 (20)\ttotal: 1m 4s\tremaining: 9m 13s\n",
      "21:\tlearn: 0.0003915\ttest: 0.0003223\tbest: 0.0003223 (21)\ttotal: 1m 7s\tremaining: 9m 9s\n",
      "22:\tlearn: 0.0003759\ttest: 0.0003060\tbest: 0.0003060 (22)\ttotal: 1m 10s\tremaining: 9m 4s\n",
      "23:\tlearn: 0.0003637\ttest: 0.0002933\tbest: 0.0002933 (23)\ttotal: 1m 13s\tremaining: 8m 59s\n",
      "24:\tlearn: 0.0003522\ttest: 0.0002811\tbest: 0.0002811 (24)\ttotal: 1m 16s\tremaining: 8m 57s\n",
      "25:\tlearn: 0.0003430\ttest: 0.0002727\tbest: 0.0002727 (25)\ttotal: 1m 19s\tremaining: 8m 52s\n",
      "26:\tlearn: 0.0003314\ttest: 0.0002641\tbest: 0.0002641 (26)\ttotal: 1m 24s\tremaining: 9m 1s\n",
      "27:\tlearn: 0.0003207\ttest: 0.0002537\tbest: 0.0002537 (27)\ttotal: 1m 27s\tremaining: 8m 56s\n",
      "28:\tlearn: 0.0003117\ttest: 0.0002453\tbest: 0.0002453 (28)\ttotal: 1m 30s\tremaining: 8m 54s\n",
      "29:\tlearn: 0.0003041\ttest: 0.0002384\tbest: 0.0002384 (29)\ttotal: 1m 33s\tremaining: 8m 48s\n",
      "30:\tlearn: 0.0002973\ttest: 0.0002324\tbest: 0.0002324 (30)\ttotal: 1m 35s\tremaining: 8m 42s\n",
      "31:\tlearn: 0.0002904\ttest: 0.0002294\tbest: 0.0002294 (31)\ttotal: 1m 40s\tremaining: 8m 45s\n",
      "32:\tlearn: 0.0002860\ttest: 0.0002285\tbest: 0.0002285 (32)\ttotal: 1m 44s\tremaining: 8m 47s\n",
      "33:\tlearn: 0.0002808\ttest: 0.0002241\tbest: 0.0002241 (33)\ttotal: 1m 46s\tremaining: 8m 42s\n",
      "34:\tlearn: 0.0002765\ttest: 0.0002209\tbest: 0.0002209 (34)\ttotal: 1m 49s\tremaining: 8m 38s\n",
      "35:\tlearn: 0.0002733\ttest: 0.0002204\tbest: 0.0002204 (35)\ttotal: 1m 53s\tremaining: 8m 37s\n",
      "36:\tlearn: 0.0002692\ttest: 0.0002176\tbest: 0.0002176 (36)\ttotal: 1m 58s\tremaining: 8m 41s\n",
      "37:\tlearn: 0.0002653\ttest: 0.0002136\tbest: 0.0002136 (37)\ttotal: 2m 2s\tremaining: 8m 43s\n",
      "38:\tlearn: 0.0002631\ttest: 0.0002107\tbest: 0.0002107 (38)\ttotal: 2m 5s\tremaining: 8m 37s\n",
      "39:\tlearn: 0.0002590\ttest: 0.0002039\tbest: 0.0002039 (39)\ttotal: 2m 7s\tremaining: 8m 31s\n",
      "40:\tlearn: 0.0002556\ttest: 0.0001987\tbest: 0.0001987 (40)\ttotal: 2m 11s\tremaining: 8m 28s\n",
      "41:\tlearn: 0.0002547\ttest: 0.0001986\tbest: 0.0001986 (41)\ttotal: 2m 14s\tremaining: 8m 26s\n",
      "42:\tlearn: 0.0002509\ttest: 0.0001969\tbest: 0.0001969 (42)\ttotal: 2m 17s\tremaining: 8m 23s\n",
      "43:\tlearn: 0.0002484\ttest: 0.0001927\tbest: 0.0001927 (43)\ttotal: 2m 20s\tremaining: 8m 19s\n",
      "44:\tlearn: 0.0002450\ttest: 0.0001915\tbest: 0.0001915 (44)\ttotal: 2m 24s\tremaining: 8m 16s\n",
      "45:\tlearn: 0.0002423\ttest: 0.0001905\tbest: 0.0001905 (45)\ttotal: 2m 28s\tremaining: 8m 17s\n",
      "46:\tlearn: 0.0002417\ttest: 0.0001912\tbest: 0.0001905 (45)\ttotal: 2m 31s\tremaining: 8m 14s\n",
      "47:\tlearn: 0.0002395\ttest: 0.0001882\tbest: 0.0001882 (47)\ttotal: 2m 35s\tremaining: 8m 13s\n",
      "48:\tlearn: 0.0002389\ttest: 0.0001883\tbest: 0.0001882 (47)\ttotal: 2m 38s\tremaining: 8m 9s\n",
      "49:\tlearn: 0.0002370\ttest: 0.0001869\tbest: 0.0001869 (49)\ttotal: 2m 41s\tremaining: 8m 4s\n",
      "50:\tlearn: 0.0002364\ttest: 0.0001867\tbest: 0.0001867 (50)\ttotal: 2m 45s\tremaining: 8m 2s\n",
      "51:\tlearn: 0.0002352\ttest: 0.0001838\tbest: 0.0001838 (51)\ttotal: 2m 48s\tremaining: 7m 58s\n",
      "52:\tlearn: 0.0002348\ttest: 0.0001836\tbest: 0.0001836 (52)\ttotal: 2m 51s\tremaining: 7m 55s\n",
      "53:\tlearn: 0.0002335\ttest: 0.0001833\tbest: 0.0001833 (53)\ttotal: 2m 55s\tremaining: 7m 53s\n",
      "54:\tlearn: 0.0002319\ttest: 0.0001813\tbest: 0.0001813 (54)\ttotal: 2m 58s\tremaining: 7m 50s\n",
      "55:\tlearn: 0.0002316\ttest: 0.0001813\tbest: 0.0001813 (54)\ttotal: 3m\tremaining: 7m 44s\n",
      "56:\tlearn: 0.0002313\ttest: 0.0001810\tbest: 0.0001810 (56)\ttotal: 3m 4s\tremaining: 7m 41s\n",
      "57:\tlearn: 0.0002300\ttest: 0.0001803\tbest: 0.0001803 (57)\ttotal: 3m 8s\tremaining: 7m 42s\n",
      "58:\tlearn: 0.0002297\ttest: 0.0001801\tbest: 0.0001801 (58)\ttotal: 3m 12s\tremaining: 7m 38s\n",
      "59:\tlearn: 0.0002285\ttest: 0.0001790\tbest: 0.0001790 (59)\ttotal: 3m 16s\tremaining: 7m 39s\n",
      "60:\tlearn: 0.0002281\ttest: 0.0001788\tbest: 0.0001788 (60)\ttotal: 3m 20s\tremaining: 7m 37s\n",
      "61:\tlearn: 0.0002279\ttest: 0.0001790\tbest: 0.0001788 (60)\ttotal: 3m 24s\tremaining: 7m 34s\n",
      "62:\tlearn: 0.0002274\ttest: 0.0001773\tbest: 0.0001773 (62)\ttotal: 3m 27s\tremaining: 7m 30s\n",
      "63:\tlearn: 0.0002273\ttest: 0.0001774\tbest: 0.0001773 (62)\ttotal: 3m 29s\tremaining: 7m 25s\n",
      "64:\tlearn: 0.0002270\ttest: 0.0001769\tbest: 0.0001769 (64)\ttotal: 3m 33s\tremaining: 7m 22s\n",
      "65:\tlearn: 0.0002267\ttest: 0.0001770\tbest: 0.0001769 (64)\ttotal: 3m 37s\tremaining: 7m 21s\n",
      "66:\tlearn: 0.0002264\ttest: 0.0001767\tbest: 0.0001767 (66)\ttotal: 3m 40s\tremaining: 7m 18s\n",
      "67:\tlearn: 0.0002262\ttest: 0.0001767\tbest: 0.0001767 (67)\ttotal: 3m 45s\tremaining: 7m 16s\n",
      "68:\tlearn: 0.0002250\ttest: 0.0001753\tbest: 0.0001753 (68)\ttotal: 3m 47s\tremaining: 7m 12s\n",
      "69:\tlearn: 0.0002246\ttest: 0.0001753\tbest: 0.0001753 (69)\ttotal: 3m 51s\tremaining: 7m 9s\n",
      "70:\tlearn: 0.0002236\ttest: 0.0001743\tbest: 0.0001743 (70)\ttotal: 3m 55s\tremaining: 7m 7s\n",
      "71:\tlearn: 0.0002236\ttest: 0.0001743\tbest: 0.0001743 (70)\ttotal: 3m 58s\tremaining: 7m 3s\n",
      "72:\tlearn: 0.0002209\ttest: 0.0001733\tbest: 0.0001733 (72)\ttotal: 4m 2s\tremaining: 7m 1s\n",
      "73:\tlearn: 0.0002203\ttest: 0.0001741\tbest: 0.0001733 (72)\ttotal: 4m 6s\tremaining: 7m\n",
      "74:\tlearn: 0.0002200\ttest: 0.0001738\tbest: 0.0001733 (72)\ttotal: 4m 10s\tremaining: 6m 57s\n",
      "75:\tlearn: 0.0002189\ttest: 0.0001735\tbest: 0.0001733 (72)\ttotal: 4m 13s\tremaining: 6m 53s\n",
      "76:\tlearn: 0.0002184\ttest: 0.0001742\tbest: 0.0001733 (72)\ttotal: 4m 16s\tremaining: 6m 49s\n",
      "77:\tlearn: 0.0002181\ttest: 0.0001736\tbest: 0.0001733 (72)\ttotal: 4m 20s\tremaining: 6m 48s\n",
      "78:\tlearn: 0.0002177\ttest: 0.0001733\tbest: 0.0001733 (72)\ttotal: 4m 25s\tremaining: 6m 46s\n",
      "79:\tlearn: 0.0002173\ttest: 0.0001737\tbest: 0.0001733 (72)\ttotal: 4m 28s\tremaining: 6m 43s\n",
      "80:\tlearn: 0.0002130\ttest: 0.0001688\tbest: 0.0001688 (80)\ttotal: 4m 32s\tremaining: 6m 39s\n",
      "81:\tlearn: 0.0002128\ttest: 0.0001690\tbest: 0.0001688 (80)\ttotal: 4m 37s\tremaining: 6m 38s\n",
      "82:\tlearn: 0.0002125\ttest: 0.0001692\tbest: 0.0001688 (80)\ttotal: 4m 41s\tremaining: 6m 37s\n",
      "83:\tlearn: 0.0002124\ttest: 0.0001695\tbest: 0.0001688 (80)\ttotal: 4m 45s\tremaining: 6m 34s\n",
      "84:\tlearn: 0.0002120\ttest: 0.0001696\tbest: 0.0001688 (80)\ttotal: 4m 50s\tremaining: 6m 33s\n",
      "85:\tlearn: 0.0002115\ttest: 0.0001701\tbest: 0.0001688 (80)\ttotal: 4m 55s\tremaining: 6m 32s\n",
      "86:\tlearn: 0.0002111\ttest: 0.0001701\tbest: 0.0001688 (80)\ttotal: 4m 59s\tremaining: 6m 28s\n",
      "87:\tlearn: 0.0002109\ttest: 0.0001699\tbest: 0.0001688 (80)\ttotal: 5m 3s\tremaining: 6m 26s\n",
      "88:\tlearn: 0.0002108\ttest: 0.0001699\tbest: 0.0001688 (80)\ttotal: 5m 6s\tremaining: 6m 21s\n",
      "89:\tlearn: 0.0002103\ttest: 0.0001697\tbest: 0.0001688 (80)\ttotal: 5m 9s\tremaining: 6m 18s\n",
      "90:\tlearn: 0.0002100\ttest: 0.0001699\tbest: 0.0001688 (80)\ttotal: 5m 13s\tremaining: 6m 15s\n",
      "91:\tlearn: 0.0002098\ttest: 0.0001703\tbest: 0.0001688 (80)\ttotal: 5m 16s\tremaining: 6m 11s\n"
     ]
    },
    {
     "name": "stdout",
     "output_type": "stream",
     "text": [
      "92:\tlearn: 0.0002094\ttest: 0.0001699\tbest: 0.0001688 (80)\ttotal: 5m 21s\tremaining: 6m 9s\n",
      "93:\tlearn: 0.0002091\ttest: 0.0001696\tbest: 0.0001688 (80)\ttotal: 5m 25s\tremaining: 6m 7s\n",
      "94:\tlearn: 0.0002090\ttest: 0.0001697\tbest: 0.0001688 (80)\ttotal: 5m 29s\tremaining: 6m 4s\n",
      "95:\tlearn: 0.0002089\ttest: 0.0001698\tbest: 0.0001688 (80)\ttotal: 5m 33s\tremaining: 6m 1s\n",
      "96:\tlearn: 0.0002087\ttest: 0.0001698\tbest: 0.0001688 (80)\ttotal: 5m 39s\tremaining: 6m\n",
      "97:\tlearn: 0.0002081\ttest: 0.0001694\tbest: 0.0001688 (80)\ttotal: 5m 45s\tremaining: 5m 59s\n",
      "98:\tlearn: 0.0002069\ttest: 0.0001696\tbest: 0.0001688 (80)\ttotal: 5m 50s\tremaining: 5m 57s\n",
      "99:\tlearn: 0.0002060\ttest: 0.0001694\tbest: 0.0001688 (80)\ttotal: 5m 55s\tremaining: 5m 55s\n",
      "100:\tlearn: 0.0002053\ttest: 0.0001695\tbest: 0.0001688 (80)\ttotal: 6m\tremaining: 5m 53s\n",
      "101:\tlearn: 0.0002052\ttest: 0.0001695\tbest: 0.0001688 (80)\ttotal: 6m 4s\tremaining: 5m 50s\n",
      "102:\tlearn: 0.0002050\ttest: 0.0001695\tbest: 0.0001688 (80)\ttotal: 6m 9s\tremaining: 5m 47s\n",
      "103:\tlearn: 0.0002049\ttest: 0.0001695\tbest: 0.0001688 (80)\ttotal: 6m 13s\tremaining: 5m 44s\n",
      "104:\tlearn: 0.0002035\ttest: 0.0001698\tbest: 0.0001688 (80)\ttotal: 6m 16s\tremaining: 5m 40s\n",
      "105:\tlearn: 0.0002028\ttest: 0.0001696\tbest: 0.0001688 (80)\ttotal: 6m 21s\tremaining: 5m 38s\n",
      "106:\tlearn: 0.0002027\ttest: 0.0001697\tbest: 0.0001688 (80)\ttotal: 6m 26s\tremaining: 5m 36s\n",
      "107:\tlearn: 0.0002026\ttest: 0.0001697\tbest: 0.0001688 (80)\ttotal: 6m 31s\tremaining: 5m 33s\n",
      "108:\tlearn: 0.0002025\ttest: 0.0001698\tbest: 0.0001688 (80)\ttotal: 6m 35s\tremaining: 5m 30s\n",
      "109:\tlearn: 0.0002019\ttest: 0.0001698\tbest: 0.0001688 (80)\ttotal: 6m 42s\tremaining: 5m 29s\n",
      "110:\tlearn: 0.0002018\ttest: 0.0001698\tbest: 0.0001688 (80)\ttotal: 6m 46s\tremaining: 5m 25s\n",
      "111:\tlearn: 0.0002018\ttest: 0.0001698\tbest: 0.0001688 (80)\ttotal: 6m 50s\tremaining: 5m 22s\n",
      "112:\tlearn: 0.0002016\ttest: 0.0001698\tbest: 0.0001688 (80)\ttotal: 6m 55s\tremaining: 5m 19s\n",
      "113:\tlearn: 0.0002015\ttest: 0.0001699\tbest: 0.0001688 (80)\ttotal: 6m 59s\tremaining: 5m 16s\n",
      "114:\tlearn: 0.0002014\ttest: 0.0001699\tbest: 0.0001688 (80)\ttotal: 7m 3s\tremaining: 5m 12s\n",
      "115:\tlearn: 0.0002013\ttest: 0.0001700\tbest: 0.0001688 (80)\ttotal: 7m 6s\tremaining: 5m 8s\n",
      "116:\tlearn: 0.0002012\ttest: 0.0001701\tbest: 0.0001688 (80)\ttotal: 7m 10s\tremaining: 5m 5s\n",
      "117:\tlearn: 0.0002012\ttest: 0.0001702\tbest: 0.0001688 (80)\ttotal: 7m 13s\tremaining: 5m 1s\n",
      "118:\tlearn: 0.0002010\ttest: 0.0001700\tbest: 0.0001688 (80)\ttotal: 7m 20s\tremaining: 4m 59s\n",
      "119:\tlearn: 0.0002009\ttest: 0.0001702\tbest: 0.0001688 (80)\ttotal: 7m 24s\tremaining: 4m 56s\n",
      "120:\tlearn: 0.0002008\ttest: 0.0001702\tbest: 0.0001688 (80)\ttotal: 7m 28s\tremaining: 4m 52s\n",
      "121:\tlearn: 0.0002008\ttest: 0.0001703\tbest: 0.0001688 (80)\ttotal: 7m 32s\tremaining: 4m 49s\n",
      "122:\tlearn: 0.0002006\ttest: 0.0001700\tbest: 0.0001688 (80)\ttotal: 7m 37s\tremaining: 4m 46s\n",
      "123:\tlearn: 0.0002001\ttest: 0.0001698\tbest: 0.0001688 (80)\ttotal: 7m 41s\tremaining: 4m 42s\n",
      "124:\tlearn: 0.0001989\ttest: 0.0001699\tbest: 0.0001688 (80)\ttotal: 7m 46s\tremaining: 4m 39s\n",
      "125:\tlearn: 0.0001983\ttest: 0.0001698\tbest: 0.0001688 (80)\ttotal: 7m 51s\tremaining: 4m 36s\n",
      "126:\tlearn: 0.0001982\ttest: 0.0001697\tbest: 0.0001688 (80)\ttotal: 7m 54s\tremaining: 4m 32s\n",
      "127:\tlearn: 0.0001981\ttest: 0.0001698\tbest: 0.0001688 (80)\ttotal: 7m 57s\tremaining: 4m 28s\n",
      "128:\tlearn: 0.0001978\ttest: 0.0001691\tbest: 0.0001688 (80)\ttotal: 8m 1s\tremaining: 4m 24s\n",
      "129:\tlearn: 0.0001978\ttest: 0.0001692\tbest: 0.0001688 (80)\ttotal: 8m 5s\tremaining: 4m 21s\n",
      "130:\tlearn: 0.0001975\ttest: 0.0001691\tbest: 0.0001688 (80)\ttotal: 8m 10s\tremaining: 4m 18s\n",
      "131:\tlearn: 0.0001973\ttest: 0.0001693\tbest: 0.0001688 (80)\ttotal: 8m 14s\tremaining: 4m 14s\n",
      "132:\tlearn: 0.0001973\ttest: 0.0001693\tbest: 0.0001688 (80)\ttotal: 8m 18s\tremaining: 4m 10s\n",
      "133:\tlearn: 0.0001958\ttest: 0.0001701\tbest: 0.0001688 (80)\ttotal: 8m 22s\tremaining: 4m 7s\n",
      "134:\tlearn: 0.0001957\ttest: 0.0001702\tbest: 0.0001688 (80)\ttotal: 8m 25s\tremaining: 4m 3s\n",
      "135:\tlearn: 0.0001957\ttest: 0.0001703\tbest: 0.0001688 (80)\ttotal: 8m 29s\tremaining: 3m 59s\n",
      "136:\tlearn: 0.0001955\ttest: 0.0001705\tbest: 0.0001688 (80)\ttotal: 8m 33s\tremaining: 3m 56s\n",
      "137:\tlearn: 0.0001954\ttest: 0.0001702\tbest: 0.0001688 (80)\ttotal: 8m 38s\tremaining: 3m 52s\n",
      "138:\tlearn: 0.0001954\ttest: 0.0001703\tbest: 0.0001688 (80)\ttotal: 8m 41s\tremaining: 3m 48s\n",
      "139:\tlearn: 0.0001952\ttest: 0.0001702\tbest: 0.0001688 (80)\ttotal: 8m 45s\tremaining: 3m 45s\n",
      "140:\tlearn: 0.0001940\ttest: 0.0001710\tbest: 0.0001688 (80)\ttotal: 8m 50s\tremaining: 3m 41s\n",
      "141:\tlearn: 0.0001937\ttest: 0.0001708\tbest: 0.0001688 (80)\ttotal: 8m 55s\tremaining: 3m 38s\n",
      "142:\tlearn: 0.0001933\ttest: 0.0001709\tbest: 0.0001688 (80)\ttotal: 8m 59s\tremaining: 3m 35s\n",
      "143:\tlearn: 0.0001926\ttest: 0.0001719\tbest: 0.0001688 (80)\ttotal: 9m 3s\tremaining: 3m 31s\n",
      "144:\tlearn: 0.0001925\ttest: 0.0001719\tbest: 0.0001688 (80)\ttotal: 9m 7s\tremaining: 3m 27s\n",
      "145:\tlearn: 0.0001920\ttest: 0.0001712\tbest: 0.0001688 (80)\ttotal: 9m 11s\tremaining: 3m 24s\n",
      "146:\tlearn: 0.0001915\ttest: 0.0001722\tbest: 0.0001688 (80)\ttotal: 9m 16s\tremaining: 3m 20s\n",
      "147:\tlearn: 0.0001914\ttest: 0.0001722\tbest: 0.0001688 (80)\ttotal: 9m 20s\tremaining: 3m 17s\n",
      "148:\tlearn: 0.0001911\ttest: 0.0001724\tbest: 0.0001688 (80)\ttotal: 9m 25s\tremaining: 3m 13s\n",
      "149:\tlearn: 0.0001909\ttest: 0.0001722\tbest: 0.0001688 (80)\ttotal: 9m 28s\tremaining: 3m 9s\n",
      "150:\tlearn: 0.0001896\ttest: 0.0001718\tbest: 0.0001688 (80)\ttotal: 9m 33s\tremaining: 3m 6s\n",
      "151:\tlearn: 0.0001895\ttest: 0.0001721\tbest: 0.0001688 (80)\ttotal: 9m 37s\tremaining: 3m 2s\n",
      "152:\tlearn: 0.0001894\ttest: 0.0001722\tbest: 0.0001688 (80)\ttotal: 9m 40s\tremaining: 2m 58s\n",
      "153:\tlearn: 0.0001893\ttest: 0.0001723\tbest: 0.0001688 (80)\ttotal: 9m 44s\tremaining: 2m 54s\n",
      "154:\tlearn: 0.0001893\ttest: 0.0001724\tbest: 0.0001688 (80)\ttotal: 9m 48s\tremaining: 2m 50s\n",
      "155:\tlearn: 0.0001893\ttest: 0.0001724\tbest: 0.0001688 (80)\ttotal: 9m 52s\tremaining: 2m 47s\n",
      "156:\tlearn: 0.0001882\ttest: 0.0001716\tbest: 0.0001688 (80)\ttotal: 9m 57s\tremaining: 2m 43s\n",
      "157:\tlearn: 0.0001880\ttest: 0.0001716\tbest: 0.0001688 (80)\ttotal: 10m\tremaining: 2m 39s\n",
      "158:\tlearn: 0.0001880\ttest: 0.0001716\tbest: 0.0001688 (80)\ttotal: 10m 4s\tremaining: 2m 35s\n",
      "159:\tlearn: 0.0001874\ttest: 0.0001726\tbest: 0.0001688 (80)\ttotal: 10m 8s\tremaining: 2m 32s\n",
      "160:\tlearn: 0.0001873\ttest: 0.0001728\tbest: 0.0001688 (80)\ttotal: 10m 11s\tremaining: 2m 28s\n",
      "161:\tlearn: 0.0001866\ttest: 0.0001725\tbest: 0.0001688 (80)\ttotal: 10m 14s\tremaining: 2m 24s\n",
      "162:\tlearn: 0.0001864\ttest: 0.0001723\tbest: 0.0001688 (80)\ttotal: 10m 19s\tremaining: 2m 20s\n",
      "163:\tlearn: 0.0001863\ttest: 0.0001724\tbest: 0.0001688 (80)\ttotal: 10m 23s\tremaining: 2m 16s\n",
      "164:\tlearn: 0.0001856\ttest: 0.0001727\tbest: 0.0001688 (80)\ttotal: 10m 28s\tremaining: 2m 13s\n",
      "165:\tlearn: 0.0001855\ttest: 0.0001728\tbest: 0.0001688 (80)\ttotal: 10m 32s\tremaining: 2m 9s\n",
      "166:\tlearn: 0.0001852\ttest: 0.0001732\tbest: 0.0001688 (80)\ttotal: 10m 35s\tremaining: 2m 5s\n",
      "167:\tlearn: 0.0001848\ttest: 0.0001726\tbest: 0.0001688 (80)\ttotal: 10m 39s\tremaining: 2m 1s\n",
      "168:\tlearn: 0.0001846\ttest: 0.0001727\tbest: 0.0001688 (80)\ttotal: 10m 43s\tremaining: 1m 57s\n",
      "169:\tlearn: 0.0001845\ttest: 0.0001727\tbest: 0.0001688 (80)\ttotal: 10m 46s\tremaining: 1m 54s\n",
      "170:\tlearn: 0.0001836\ttest: 0.0001704\tbest: 0.0001688 (80)\ttotal: 10m 50s\tremaining: 1m 50s\n",
      "171:\tlearn: 0.0001835\ttest: 0.0001705\tbest: 0.0001688 (80)\ttotal: 10m 53s\tremaining: 1m 46s\n",
      "172:\tlearn: 0.0001833\ttest: 0.0001706\tbest: 0.0001688 (80)\ttotal: 10m 56s\tremaining: 1m 42s\n",
      "173:\tlearn: 0.0001819\ttest: 0.0001695\tbest: 0.0001688 (80)\ttotal: 11m\tremaining: 1m 38s\n",
      "174:\tlearn: 0.0001819\ttest: 0.0001696\tbest: 0.0001688 (80)\ttotal: 11m 4s\tremaining: 1m 34s\n",
      "175:\tlearn: 0.0001818\ttest: 0.0001698\tbest: 0.0001688 (80)\ttotal: 11m 7s\tremaining: 1m 30s\n",
      "176:\tlearn: 0.0001815\ttest: 0.0001699\tbest: 0.0001688 (80)\ttotal: 11m 12s\tremaining: 1m 27s\n",
      "177:\tlearn: 0.0001815\ttest: 0.0001697\tbest: 0.0001688 (80)\ttotal: 11m 15s\tremaining: 1m 23s\n",
      "178:\tlearn: 0.0001809\ttest: 0.0001689\tbest: 0.0001688 (80)\ttotal: 11m 20s\tremaining: 1m 19s\n",
      "179:\tlearn: 0.0001809\ttest: 0.0001690\tbest: 0.0001688 (80)\ttotal: 11m 26s\tremaining: 1m 16s\n",
      "180:\tlearn: 0.0001808\ttest: 0.0001691\tbest: 0.0001688 (80)\ttotal: 11m 30s\tremaining: 1m 12s\n",
      "181:\tlearn: 0.0001806\ttest: 0.0001691\tbest: 0.0001688 (80)\ttotal: 11m 36s\tremaining: 1m 8s\n",
      "182:\tlearn: 0.0001798\ttest: 0.0001691\tbest: 0.0001688 (80)\ttotal: 11m 40s\tremaining: 1m 5s\n"
     ]
    },
    {
     "name": "stdout",
     "output_type": "stream",
     "text": [
      "183:\tlearn: 0.0001796\ttest: 0.0001692\tbest: 0.0001688 (80)\ttotal: 11m 44s\tremaining: 1m 1s\n",
      "184:\tlearn: 0.0001795\ttest: 0.0001693\tbest: 0.0001688 (80)\ttotal: 11m 48s\tremaining: 57.4s\n",
      "185:\tlearn: 0.0001792\ttest: 0.0001694\tbest: 0.0001688 (80)\ttotal: 11m 53s\tremaining: 53.7s\n",
      "186:\tlearn: 0.0001779\ttest: 0.0001678\tbest: 0.0001678 (186)\ttotal: 11m 57s\tremaining: 49.8s\n",
      "187:\tlearn: 0.0001777\ttest: 0.0001690\tbest: 0.0001678 (186)\ttotal: 12m 1s\tremaining: 46s\n",
      "188:\tlearn: 0.0001775\ttest: 0.0001691\tbest: 0.0001678 (186)\ttotal: 12m 6s\tremaining: 42.3s\n",
      "189:\tlearn: 0.0001773\ttest: 0.0001694\tbest: 0.0001678 (186)\ttotal: 12m 10s\tremaining: 38.5s\n",
      "190:\tlearn: 0.0001769\ttest: 0.0001686\tbest: 0.0001678 (186)\ttotal: 12m 15s\tremaining: 34.7s\n",
      "191:\tlearn: 0.0001768\ttest: 0.0001688\tbest: 0.0001678 (186)\ttotal: 12m 18s\tremaining: 30.8s\n",
      "192:\tlearn: 0.0001766\ttest: 0.0001688\tbest: 0.0001678 (186)\ttotal: 12m 23s\tremaining: 27s\n",
      "193:\tlearn: 0.0001766\ttest: 0.0001688\tbest: 0.0001678 (186)\ttotal: 12m 27s\tremaining: 23.1s\n",
      "194:\tlearn: 0.0001766\ttest: 0.0001689\tbest: 0.0001678 (186)\ttotal: 12m 32s\tremaining: 19.3s\n",
      "195:\tlearn: 0.0001763\ttest: 0.0001688\tbest: 0.0001678 (186)\ttotal: 12m 38s\tremaining: 15.5s\n",
      "196:\tlearn: 0.0001762\ttest: 0.0001689\tbest: 0.0001678 (186)\ttotal: 12m 43s\tremaining: 11.6s\n"
     ]
    }
   ],
   "source": [
    "cat_features = ['serial_number', 'model', 'datacenter', 'cluster_id',\n",
    "                 'vault_id', 'pod_id', 'pod_slot_num', 'is_legacy_format']\n",
    "cat_features = np.array(cat_features)\n",
    "cat_features_indexes = np.where(np.in1d(df.columns, cat_features))[0]\n",
    "\n",
    "\n",
    "\n",
    "\n",
    "train_pool = Pool(data=train_x, label=train_y, cat_features=cat_features_indexes, timestamp=train_x['date'])\n",
    "test_pool = Pool(data=test_x, label=test_y, cat_features=cat_features, timestamp=test_x['date'])\n",
    "\n",
    "model = CatBoostClassifier(iterations=200, learning_rate=0.1, custom_loss=['F1', 'Recall', 'Precision', 'Accuracy'])\n",
    "\n",
    "model.fit(train_pool, plot=True, eval_set=(test_x, test_y))"
   ]
  },
  {
   "cell_type": "code",
   "execution_count": 7,
   "id": "fe1c6313",
   "metadata": {},
   "outputs": [
    {
     "data": {
      "text/plain": [
       "serial_number       object\n",
       "model               object\n",
       "datacenter          object\n",
       "cluster_id           int64\n",
       "vault_id             int64\n",
       "pod_id               int64\n",
       "pod_slot_num         int64\n",
       "is_legacy_format     int64\n",
       "dtype: object"
      ]
     },
     "execution_count": 7,
     "metadata": {},
     "output_type": "execute_result"
    }
   ],
   "source": [
    "cat_features = ['serial_number', 'model', 'datacenter', 'cluster_id',\n",
    "                 'vault_id', 'pod_id', 'pod_slot_num', 'is_legacy_format']\n",
    "df[cat_features].dtypes"
   ]
  },
  {
   "cell_type": "code",
   "execution_count": 10,
   "id": "19345197",
   "metadata": {},
   "outputs": [
    {
     "data": {
      "text/plain": [
       "array(['ams5', 'sac2', 'sac0', 'phx1', 'iad1', nan], dtype=object)"
      ]
     },
     "execution_count": 10,
     "metadata": {},
     "output_type": "execute_result"
    }
   ],
   "source": [
    "df['datacenter'].unique()"
   ]
  },
  {
   "cell_type": "code",
   "execution_count": null,
   "id": "e16d4b9f",
   "metadata": {},
   "outputs": [],
   "source": [
    "df"
   ]
  }
 ],
 "metadata": {
  "kernelspec": {
   "display_name": "Python 3 (ipykernel)",
   "language": "python",
   "name": "python3"
  },
  "language_info": {
   "codemirror_mode": {
    "name": "ipython",
    "version": 3
   },
   "file_extension": ".py",
   "mimetype": "text/x-python",
   "name": "python",
   "nbconvert_exporter": "python",
   "pygments_lexer": "ipython3",
   "version": "3.9.13"
  }
 },
 "nbformat": 4,
 "nbformat_minor": 5
}
